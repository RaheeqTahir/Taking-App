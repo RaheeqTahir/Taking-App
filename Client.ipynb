{
 "cells": [
  {
   "cell_type": "code",
   "execution_count": null,
   "id": "5a48b4bb",
   "metadata": {},
   "outputs": [
    {
     "name": "stdout",
     "output_type": "stream",
     "text": [
      "Your command: hi\n",
      "Received:  hi\n",
      "Your command: hello\n",
      "Received:  hello\n",
      "Your command: hi\n",
      "Received:  hi\n",
      "Your command: how are you\n",
      "Received:  how are you\n"
     ]
    }
   ],
   "source": [
    "import socket\n",
    "\n",
    "HOST = '127.0.0.1'  \n",
    "PORT = 65432        \n",
    "\n",
    "with socket.socket(socket.AF_INET, socket.SOCK_STREAM) as s:\n",
    "    s.connect((HOST, PORT))\n",
    "    while(True):\n",
    "        msg = input(\"Your command: \")\n",
    "        s.sendall(str.encode(msg))\n",
    "        if(msg == \"exit\"):\n",
    "            print(\"Bye\")\n",
    "            break\n",
    "        data = s.recv(2048)\n",
    "        print(\"Received: \", data.decode())"
   ]
  },
  {
   "cell_type": "code",
   "execution_count": 2,
   "id": "2a8904f9",
   "metadata": {},
   "outputs": [
    {
     "name": "stdout",
     "output_type": "stream",
     "text": [
      "88\n"
     ]
    }
   ],
   "source": [
    "a = 32\n",
    "b = 56\n",
    "print(a+b)"
   ]
  },
  {
   "cell_type": "code",
   "execution_count": null,
   "id": "dd09df84",
   "metadata": {},
   "outputs": [],
   "source": []
  }
 ],
 "metadata": {
  "kernelspec": {
   "display_name": "Python 3 (ipykernel)",
   "language": "python",
   "name": "python3"
  },
  "language_info": {
   "codemirror_mode": {
    "name": "ipython",
    "version": 3
   },
   "file_extension": ".py",
   "mimetype": "text/x-python",
   "name": "python",
   "nbconvert_exporter": "python",
   "pygments_lexer": "ipython3",
   "version": "3.9.12"
  }
 },
 "nbformat": 4,
 "nbformat_minor": 5
}
